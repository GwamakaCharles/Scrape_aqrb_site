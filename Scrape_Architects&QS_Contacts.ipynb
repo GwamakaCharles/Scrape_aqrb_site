{
 "cells": [
  {
   "cell_type": "code",
   "execution_count": 18,
   "metadata": {},
   "outputs": [],
   "source": [
    "import requests\n",
    "from bs4 import BeautifulSoup\n",
    "import pandas as pd"
   ]
  },
  {
   "cell_type": "code",
   "execution_count": 19,
   "metadata": {},
   "outputs": [],
   "source": [
    "class HTMLTableParser:\n",
    "       \n",
    "        def parse_url(self, url):\n",
    "            response = requests.get(url)\n",
    "            soup = BeautifulSoup(response.text, 'lxml')\n",
    "            return [(self.parse_html_table(table))\\\n",
    "                    for table in soup.find_all('table')]  \n",
    "    \n",
    "        def parse_html_table(self, table):\n",
    "            n_columns = 0\n",
    "            n_rows=0\n",
    "            column_names = []\n",
    "    \n",
    "            # Find number of rows and columns\n",
    "            # we also find the column titles if we can\n",
    "            for row in table.find_all('tr'):\n",
    "                \n",
    "                # Determine the number of rows in the table\n",
    "                td_tags = row.find_all('td')\n",
    "                if len(td_tags) > 0:\n",
    "                    n_rows+=1\n",
    "                    if n_columns == 0:\n",
    "                        # Set the number of columns for our table\n",
    "                        n_columns = len(td_tags)\n",
    "                        \n",
    "                # Handle column names if we find them\n",
    "                th_tags = row.find_all('th') \n",
    "                if len(th_tags) > 0 and len(column_names) == 0:\n",
    "                    for th in th_tags:\n",
    "                        column_names.append(th.get_text())\n",
    "    \n",
    "            # Safeguard on Column Titles\n",
    "            if len(column_names) > 0 and len(column_names) != n_columns:\n",
    "                raise Exception(\"Column titles do not match the number of columns\")\n",
    "    \n",
    "            columns = column_names if len(column_names) > 0 else range(0,n_columns)\n",
    "            df = pd.DataFrame(columns = columns,\n",
    "                              index= range(0,n_rows))\n",
    "            row_marker = 0\n",
    "            for row in table.find_all('tr'):\n",
    "                column_marker = 0\n",
    "                columns = row.find_all('td')\n",
    "                for column in columns:\n",
    "                    df.iat[row_marker,column_marker] = column.get_text()\n",
    "                    column_marker += 1\n",
    "                if len(columns) > 0:\n",
    "                    row_marker += 1\n",
    "                    \n",
    "            # Convert to float if possible\n",
    "            for col in df:\n",
    "                try:\n",
    "                    df[col] = df[col].astype(float)\n",
    "                except ValueError:\n",
    "                    pass\n",
    "            \n",
    "            return df"
   ]
  },
  {
   "cell_type": "code",
   "execution_count": 100,
   "metadata": {},
   "outputs": [],
   "source": [
    "#A site url for the resource\n",
    "url = 'https://ors.aqrb.go.tz/firms_list'"
   ]
  },
  {
   "cell_type": "code",
   "execution_count": 101,
   "metadata": {},
   "outputs": [],
   "source": [
    "#Instantiate a parser object\n",
    "hp = HTMLTableParser()"
   ]
  },
  {
   "cell_type": "code",
   "execution_count": 91,
   "metadata": {},
   "outputs": [],
   "source": [
    "#Retrieve the table from a list\n",
    "table = hp.parse_url(url)[1]"
   ]
  },
  {
   "cell_type": "code",
   "execution_count": 92,
   "metadata": {},
   "outputs": [
    {
     "data": {
      "text/html": [
       "<div>\n",
       "<style scoped>\n",
       "    .dataframe tbody tr th:only-of-type {\n",
       "        vertical-align: middle;\n",
       "    }\n",
       "\n",
       "    .dataframe tbody tr th {\n",
       "        vertical-align: top;\n",
       "    }\n",
       "\n",
       "    .dataframe thead th {\n",
       "        text-align: right;\n",
       "    }\n",
       "</style>\n",
       "<table border=\"1\" class=\"dataframe\">\n",
       "  <thead>\n",
       "    <tr style=\"text-align: right;\">\n",
       "      <th></th>\n",
       "      <th>0</th>\n",
       "      <th>1</th>\n",
       "      <th>2</th>\n",
       "      <th>3</th>\n",
       "      <th>4</th>\n",
       "      <th>5</th>\n",
       "      <th>6</th>\n",
       "      <th>7</th>\n",
       "    </tr>\n",
       "  </thead>\n",
       "  <tbody>\n",
       "    <tr>\n",
       "      <th>0</th>\n",
       "      <td>1.0</td>\n",
       "      <td>3D Arch. Consult</td>\n",
       "      <td>Architectural firm</td>\n",
       "      <td>Local</td>\n",
       "      <td>Box 3000 Morogoro</td>\n",
       "      <td></td>\n",
       "      <td>jeje@yahoo.com</td>\n",
       "      <td>0713760088</td>\n",
       "    </tr>\n",
       "    <tr>\n",
       "      <th>1</th>\n",
       "      <td>2.0</td>\n",
       "      <td>A + P Consultants Ltd</td>\n",
       "      <td>Architectural firm</td>\n",
       "      <td>Local</td>\n",
       "      <td>Box 2076 DSM</td>\n",
       "      <td></td>\n",
       "      <td>apggcl@yahoo.com</td>\n",
       "      <td>0754781150</td>\n",
       "    </tr>\n",
       "    <tr>\n",
       "      <th>2</th>\n",
       "      <td>3.0</td>\n",
       "      <td>A. V. Consult</td>\n",
       "      <td>Architectural firm</td>\n",
       "      <td>Local</td>\n",
       "      <td>Box 33213 DSM</td>\n",
       "      <td></td>\n",
       "      <td>avconsult2005@yahoo.com</td>\n",
       "      <td>0741461474</td>\n",
       "    </tr>\n",
       "    <tr>\n",
       "      <th>3</th>\n",
       "      <td>4.0</td>\n",
       "      <td>Abacus Consults</td>\n",
       "      <td>Architectural firm</td>\n",
       "      <td>Local</td>\n",
       "      <td>Box 2453 Mwanza</td>\n",
       "      <td></td>\n",
       "      <td>de_rwabuhanga@rocketmail.com</td>\n",
       "      <td>0782254185</td>\n",
       "    </tr>\n",
       "    <tr>\n",
       "      <th>4</th>\n",
       "      <td>5.0</td>\n",
       "      <td>Abyss Creations</td>\n",
       "      <td>Architectural firm</td>\n",
       "      <td>Local</td>\n",
       "      <td>Box 76615 DSM</td>\n",
       "      <td></td>\n",
       "      <td>ajmcha2000@yahoo.com</td>\n",
       "      <td>0718853037</td>\n",
       "    </tr>\n",
       "  </tbody>\n",
       "</table>\n",
       "</div>"
      ],
      "text/plain": [
       "     0                      1                   2      3                  4 5  \\\n",
       "0  1.0       3D Arch. Consult  Architectural firm  Local  Box 3000 Morogoro     \n",
       "1  2.0  A + P Consultants Ltd  Architectural firm  Local       Box 2076 DSM     \n",
       "2  3.0          A. V. Consult  Architectural firm  Local      Box 33213 DSM     \n",
       "3  4.0        Abacus Consults  Architectural firm  Local    Box 2453 Mwanza     \n",
       "4  5.0        Abyss Creations  Architectural firm  Local      Box 76615 DSM     \n",
       "\n",
       "                              6           7  \n",
       "0                jeje@yahoo.com  0713760088  \n",
       "1              apggcl@yahoo.com  0754781150  \n",
       "2       avconsult2005@yahoo.com  0741461474  \n",
       "3  de_rwabuhanga@rocketmail.com  0782254185  \n",
       "4          ajmcha2000@yahoo.com  0718853037  "
      ]
     },
     "execution_count": 92,
     "metadata": {},
     "output_type": "execute_result"
    }
   ],
   "source": [
    "table.head()"
   ]
  },
  {
   "cell_type": "code",
   "execution_count": 102,
   "metadata": {},
   "outputs": [],
   "source": [
    "#Assign column names\n",
    "table.columns = ['S/N','Name','Type','Category','Contacts','City','Email','Phone number']"
   ]
  },
  {
   "cell_type": "code",
   "execution_count": 103,
   "metadata": {},
   "outputs": [
    {
     "data": {
      "text/html": [
       "<div>\n",
       "<style scoped>\n",
       "    .dataframe tbody tr th:only-of-type {\n",
       "        vertical-align: middle;\n",
       "    }\n",
       "\n",
       "    .dataframe tbody tr th {\n",
       "        vertical-align: top;\n",
       "    }\n",
       "\n",
       "    .dataframe thead th {\n",
       "        text-align: right;\n",
       "    }\n",
       "</style>\n",
       "<table border=\"1\" class=\"dataframe\">\n",
       "  <thead>\n",
       "    <tr style=\"text-align: right;\">\n",
       "      <th></th>\n",
       "      <th>S/N</th>\n",
       "      <th>Name</th>\n",
       "      <th>Type</th>\n",
       "      <th>Category</th>\n",
       "      <th>Contacts</th>\n",
       "      <th>City</th>\n",
       "      <th>Email</th>\n",
       "      <th>Phone number</th>\n",
       "    </tr>\n",
       "  </thead>\n",
       "  <tbody>\n",
       "    <tr>\n",
       "      <th>0</th>\n",
       "      <td>1.0</td>\n",
       "      <td>3D Arch. Consult</td>\n",
       "      <td>Architectural firm</td>\n",
       "      <td>Local</td>\n",
       "      <td>Box 3000 Morogoro</td>\n",
       "      <td></td>\n",
       "      <td>jeje@yahoo.com</td>\n",
       "      <td>0713760088</td>\n",
       "    </tr>\n",
       "    <tr>\n",
       "      <th>1</th>\n",
       "      <td>2.0</td>\n",
       "      <td>A + P Consultants Ltd</td>\n",
       "      <td>Architectural firm</td>\n",
       "      <td>Local</td>\n",
       "      <td>Box 2076 DSM</td>\n",
       "      <td></td>\n",
       "      <td>apggcl@yahoo.com</td>\n",
       "      <td>0754781150</td>\n",
       "    </tr>\n",
       "    <tr>\n",
       "      <th>2</th>\n",
       "      <td>3.0</td>\n",
       "      <td>A. V. Consult</td>\n",
       "      <td>Architectural firm</td>\n",
       "      <td>Local</td>\n",
       "      <td>Box 33213 DSM</td>\n",
       "      <td></td>\n",
       "      <td>avconsult2005@yahoo.com</td>\n",
       "      <td>0741461474</td>\n",
       "    </tr>\n",
       "    <tr>\n",
       "      <th>3</th>\n",
       "      <td>4.0</td>\n",
       "      <td>Abacus Consults</td>\n",
       "      <td>Architectural firm</td>\n",
       "      <td>Local</td>\n",
       "      <td>Box 2453 Mwanza</td>\n",
       "      <td></td>\n",
       "      <td>de_rwabuhanga@rocketmail.com</td>\n",
       "      <td>0782254185</td>\n",
       "    </tr>\n",
       "    <tr>\n",
       "      <th>4</th>\n",
       "      <td>5.0</td>\n",
       "      <td>Abyss Creations</td>\n",
       "      <td>Architectural firm</td>\n",
       "      <td>Local</td>\n",
       "      <td>Box 76615 DSM</td>\n",
       "      <td></td>\n",
       "      <td>ajmcha2000@yahoo.com</td>\n",
       "      <td>0718853037</td>\n",
       "    </tr>\n",
       "  </tbody>\n",
       "</table>\n",
       "</div>"
      ],
      "text/plain": [
       "   S/N                   Name                Type Category           Contacts  \\\n",
       "0  1.0       3D Arch. Consult  Architectural firm    Local  Box 3000 Morogoro   \n",
       "1  2.0  A + P Consultants Ltd  Architectural firm    Local       Box 2076 DSM   \n",
       "2  3.0          A. V. Consult  Architectural firm    Local      Box 33213 DSM   \n",
       "3  4.0        Abacus Consults  Architectural firm    Local    Box 2453 Mwanza   \n",
       "4  5.0        Abyss Creations  Architectural firm    Local      Box 76615 DSM   \n",
       "\n",
       "  City                         Email Phone number  \n",
       "0                     jeje@yahoo.com   0713760088  \n",
       "1                   apggcl@yahoo.com   0754781150  \n",
       "2            avconsult2005@yahoo.com   0741461474  \n",
       "3       de_rwabuhanga@rocketmail.com   0782254185  \n",
       "4               ajmcha2000@yahoo.com   0718853037  "
      ]
     },
     "execution_count": 103,
     "metadata": {},
     "output_type": "execute_result"
    }
   ],
   "source": [
    "table.head()"
   ]
  },
  {
   "cell_type": "code",
   "execution_count": 99,
   "metadata": {},
   "outputs": [
    {
     "data": {
      "text/plain": [
       "(336, 8)"
      ]
     },
     "execution_count": 99,
     "metadata": {},
     "output_type": "execute_result"
    }
   ],
   "source": [
    "table.shape"
   ]
  },
  {
   "cell_type": "code",
   "execution_count": 104,
   "metadata": {},
   "outputs": [],
   "source": [
    "#Export the table to excel\n",
    "table.to_excel('Architetcs_QS_firms.xlsx')"
   ]
  },
  {
   "cell_type": "code",
   "execution_count": null,
   "metadata": {},
   "outputs": [],
   "source": []
  }
 ],
 "metadata": {
  "kernelspec": {
   "display_name": "Python 3",
   "language": "python",
   "name": "python3"
  },
  "language_info": {
   "codemirror_mode": {
    "name": "ipython",
    "version": 3
   },
   "file_extension": ".py",
   "mimetype": "text/x-python",
   "name": "python",
   "nbconvert_exporter": "python",
   "pygments_lexer": "ipython3",
   "version": "3.7.7"
  }
 },
 "nbformat": 4,
 "nbformat_minor": 4
}
